{
    "cells": [
        {
            "metadata": {
                "collapsed": true
            },
            "cell_type": "markdown",
            "source": "## Week 1 Capstone: The Battle of Neighborhoods"
        },
        {
            "metadata": {},
            "cell_type": "markdown",
            "source": "### Section 1: Business Problem "
        },
        {
            "metadata": {},
            "cell_type": "markdown",
            "source": "#### Overview"
        },
        {
            "metadata": {},
            "cell_type": "markdown",
            "source": "<p> According to Bloomberg News, the London Housing Market is in a rut. It is now facing a number of different headwinds, including the prospect of higher taxes and a warning from the Bank of England that U.K. home values could fall as much as 30 percent in the event of a disorderly exit from the European Union. More specifically, four overlooked cracks suggest that the London market may be in worse shape than many realize: hidden price falls, record-low sales, homebuilder exodus and tax hikes addressing overseas buyers of homes in England and Wales."
        },
        {
            "metadata": {},
            "cell_type": "markdown",
            "source": "#### Business Problem \n"
        },
        {
            "metadata": {},
            "cell_type": "markdown",
            "source": "<p> In this scenario, it is urgent to adopt machine learning tools in order to assist homebuyers clientele in London to make wise and effective decisions. As a result, the business problem we are currently posing is: how could we provide support to homebuyers clientele in to purchase a suitable real estate in London in this uncertain economic and financial scenario?\n\nTo solve this business problem, we are going to cluster London neighborhoods in order to recommend venues and the current average price of real estate where homebuyers can make a real estate investment. We will recommend profitable venues according to amenities and essential facilities surrounding such venues i.e. elementary schools, high schools, hospitals & grocery stores."
        },
        {
            "metadata": {},
            "cell_type": "markdown",
            "source": "### Data section"
        },
        {
            "metadata": {},
            "cell_type": "markdown",
            "source": "<p> Data on London properties and the relative price paid data were extracted from the HM Land Registry (http://landregistry.data.gov.uk/). The following fields comprise the address data included in Price Paid Data: Postcode; PAON Primary Addressable Object Name. Typically the house number or name; SAON Secondary Addressable Object Name. If there is a sub-building, for example, the building is divided into flats, there will be a SAON; Street; Locality; Town/City; District; County.\n    \n<p> To explore and target recommended locations across different venues according to the presence of amenities and essential facilities, we will access data through FourSquare API interface and arrange them as a dataframe for visualization. By merging data on London properties and the relative price paid data from the HM Land Registry and data on amenities and essential facilities surrounding such properties from FourSquare API interface, we will be able to recommend profitable real estate investments."
        },
        {
            "metadata": {},
            "cell_type": "markdown",
            "source": "### Methodology section"
        },
        {
            "metadata": {},
            "cell_type": "markdown",
            "source": "<p> The Methodology section will describe the main components of our analysis and predication system. The Methodology section comprises four stages:\n\n1. Collect Inspection Data\n2. Explore and Understand Data\n3. Data preparation and preprocessing \n4. Modeling"
        },
        {
            "metadata": {},
            "cell_type": "markdown",
            "source": "#### 1. Collect Inspection Data\n<p> After importing the necessary libraries, we download the data from the HM Land Registry website as follows:"
        },
        {
            "metadata": {},
            "cell_type": "code",
            "source": "# import os # Operating System\nimport numpy as np\nimport pandas as pd\nimport datetime as dt # Datetime\nimport json # library to handle JSON files\n\n!conda install -c conda-forge geopy --yes\nfrom geopy.geocoders import Nominatim # convert an address into latitude and longitude values\n\nimport requests # library to handle requests\nfrom pandas.io.json import json_normalize # tranform JSON file into a pandas dataframe\n\n# Matplotlib and associated plotting modules\nimport matplotlib.cm as cm\nimport matplotlib.colors as colors\n\n!conda install -c conda-forge folium=0.5.0 --yes\nimport folium #import folium # map rendering library\n\nprint('Libraries imported.')",
            "execution_count": null,
            "outputs": []
        },
        {
            "metadata": {},
            "cell_type": "code",
            "source": "#Read the data for examination (Source: http://landregistry.data.gov.uk/)\ndf_ppd = pd.read_csv(\"http://prod2.publicdata.landregistry.gov.uk.s3-website-eu-west-1.amazonaws.com/pp-2018.csv\")",
            "execution_count": null,
            "outputs": []
        },
        {
            "metadata": {},
            "cell_type": "markdown",
            "source": "<p> Before using data, we will have to explore and understand it."
        },
        {
            "metadata": {},
            "cell_type": "markdown",
            "source": "#### 2. Explore and Understand Data"
        },
        {
            "metadata": {},
            "cell_type": "markdown",
            "source": "<p> We read the dataset that we collected from the HM Land Registry website into a pandas' data frame and display the first five rows of it as follows"
        },
        {
            "metadata": {},
            "cell_type": "code",
            "source": "df_ppd.head(5)",
            "execution_count": null,
            "outputs": []
        },
        {
            "metadata": {},
            "cell_type": "code",
            "source": "df_ppd.shape",
            "execution_count": null,
            "outputs": []
        },
        {
            "metadata": {},
            "cell_type": "markdown",
            "source": "#### 3. Data preparation and preprocessing"
        },
        {
            "metadata": {},
            "cell_type": "markdown",
            "source": "<p> At this stage, we prepare our dataset for the modeling process, opting for the most suitable machine learning algorithm for our scope. Accordingly, we perform the following steps:\n    \n    \n    1.Rename the column names\n    2.Format the date column\n    3.Sort data by date of sale\n    4,Select data only for the city of London\n    5.Make a list of street names in London\n    6.Calculate the street-wise average price of the property\n    7.Read the street-wise coordinates into a data frame, eliminating recurring word London from individual names\n    8.Join the data to find the coordinates of locations which fit into client's budget\n    9.Plot recommended locations on London map along with current market prices"
        },
        {
            "metadata": {},
            "cell_type": "code",
            "source": "",
            "execution_count": null,
            "outputs": []
        }
    ],
    "metadata": {
        "kernelspec": {
            "name": "python3",
            "display_name": "Python 3.6",
            "language": "python"
        },
        "language_info": {
            "name": "python",
            "version": "3.6.9",
            "mimetype": "text/x-python",
            "codemirror_mode": {
                "name": "ipython",
                "version": 3
            },
            "pygments_lexer": "ipython3",
            "nbconvert_exporter": "python",
            "file_extension": ".py"
        }
    },
    "nbformat": 4,
    "nbformat_minor": 1
}